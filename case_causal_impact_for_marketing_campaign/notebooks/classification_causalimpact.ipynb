{
 "cells": [
  {
   "cell_type": "markdown",
   "metadata": {},
   "source": [
    "## Import  Package"
   ]
  },
  {
   "cell_type": "code",
   "execution_count": 141,
   "metadata": {},
   "outputs": [],
   "source": [
    "import pandas as pd\n",
    "import numpy as np\n",
    "%matplotlib inline\n",
    "import matplotlib.pyplot as plt\n",
    "import seaborn as sns\n",
    "from scipy import stats\n",
    "\n",
    "## pre-process\n",
    "from sklearn import preprocessing\n",
    "from sklearn.preprocessing import StandardScaler\n",
    "from sklearn.preprocessing import OneHotEncoder\n",
    "from sklearn.model_selection import train_test_split\n",
    "from sklearn.cross_validation import KFold\n",
    "\n",
    "## models\n",
    "import xgboost as xgb\n",
    "from xgboost import DMatrix, XGBRegressor as XGB\n",
    "from statsmodels.tsa.arima_process import ArmaProcess\n",
    "from causalimpact import CausalImpact\n",
    "\n",
    "## validation\n",
    "from sklearn.metrics import f1_score\n",
    "from sklearn.datasets import make_classification\n",
    "from sklearn import metrics\n",
    "from sklearn.cross_validation import cross_val_score\n",
    "from sklearn.metrics import confusion_matrix\n",
    "from sklearn.metrics import accuracy_score"
   ]
  },
  {
   "cell_type": "markdown",
   "metadata": {},
   "source": [
    "## Read Files"
   ]
  },
  {
   "cell_type": "code",
   "execution_count": 5,
   "metadata": {},
   "outputs": [],
   "source": [
    "df_device = pd.read_csv('../data/rev-devices.csv')\n",
    "df_notifications = pd.read_csv('../data/rev-notifications.csv')\n",
    "df_transactions = pd.read_csv('../data/rev-transactions.csv')\n",
    "df_users = pd.read_csv('../data/rev-users.csv')"
   ]
  },
  {
   "cell_type": "code",
   "execution_count": 6,
   "metadata": {},
   "outputs": [
    {
     "data": {
      "text/html": [
       "<div>\n",
       "<style scoped>\n",
       "    .dataframe tbody tr th:only-of-type {\n",
       "        vertical-align: middle;\n",
       "    }\n",
       "\n",
       "    .dataframe tbody tr th {\n",
       "        vertical-align: top;\n",
       "    }\n",
       "\n",
       "    .dataframe thead th {\n",
       "        text-align: right;\n",
       "    }\n",
       "</style>\n",
       "<table border=\"1\" class=\"dataframe\">\n",
       "  <thead>\n",
       "    <tr style=\"text-align: right;\">\n",
       "      <th></th>\n",
       "      <th>brand</th>\n",
       "      <th>user_id</th>\n",
       "    </tr>\n",
       "  </thead>\n",
       "  <tbody>\n",
       "    <tr>\n",
       "      <th>0</th>\n",
       "      <td>Android</td>\n",
       "      <td>user_3257</td>\n",
       "    </tr>\n",
       "    <tr>\n",
       "      <th>1</th>\n",
       "      <td>Apple</td>\n",
       "      <td>user_6809</td>\n",
       "    </tr>\n",
       "  </tbody>\n",
       "</table>\n",
       "</div>"
      ],
      "text/plain": [
       "     brand    user_id\n",
       "0  Android  user_3257\n",
       "1    Apple  user_6809"
      ]
     },
     "execution_count": 6,
     "metadata": {},
     "output_type": "execute_result"
    }
   ],
   "source": [
    "df_device.head(2)"
   ]
  },
  {
   "cell_type": "code",
   "execution_count": 14,
   "metadata": {},
   "outputs": [
    {
     "data": {
      "text/plain": [
       "Android    9714\n",
       "Apple      9673\n",
       "Unknown      43\n",
       "Name: brand, dtype: int64"
      ]
     },
     "execution_count": 14,
     "metadata": {},
     "output_type": "execute_result"
    }
   ],
   "source": [
    "df_device.brand.value_counts()"
   ]
  },
  {
   "cell_type": "code",
   "execution_count": 7,
   "metadata": {},
   "outputs": [
    {
     "data": {
      "text/html": [
       "<div>\n",
       "<style scoped>\n",
       "    .dataframe tbody tr th:only-of-type {\n",
       "        vertical-align: middle;\n",
       "    }\n",
       "\n",
       "    .dataframe tbody tr th {\n",
       "        vertical-align: top;\n",
       "    }\n",
       "\n",
       "    .dataframe thead th {\n",
       "        text-align: right;\n",
       "    }\n",
       "</style>\n",
       "<table border=\"1\" class=\"dataframe\">\n",
       "  <thead>\n",
       "    <tr style=\"text-align: right;\">\n",
       "      <th></th>\n",
       "      <th>reason</th>\n",
       "      <th>channel</th>\n",
       "      <th>status</th>\n",
       "      <th>user_id</th>\n",
       "      <th>created_date</th>\n",
       "    </tr>\n",
       "  </thead>\n",
       "  <tbody>\n",
       "    <tr>\n",
       "      <th>0</th>\n",
       "      <td>REENGAGEMENT_ACTIVE_FUNDS</td>\n",
       "      <td>PUSH</td>\n",
       "      <td>SENT</td>\n",
       "      <td>user_7086</td>\n",
       "      <td>2018-12-02 17:58:33.320645</td>\n",
       "    </tr>\n",
       "    <tr>\n",
       "      <th>1</th>\n",
       "      <td>REENGAGEMENT_ACTIVE_FUNDS</td>\n",
       "      <td>PUSH</td>\n",
       "      <td>SENT</td>\n",
       "      <td>user_6598</td>\n",
       "      <td>2018-12-01 23:09:37.367127</td>\n",
       "    </tr>\n",
       "  </tbody>\n",
       "</table>\n",
       "</div>"
      ],
      "text/plain": [
       "                      reason channel status    user_id  \\\n",
       "0  REENGAGEMENT_ACTIVE_FUNDS    PUSH   SENT  user_7086   \n",
       "1  REENGAGEMENT_ACTIVE_FUNDS    PUSH   SENT  user_6598   \n",
       "\n",
       "                 created_date  \n",
       "0  2018-12-02 17:58:33.320645  \n",
       "1  2018-12-01 23:09:37.367127  "
      ]
     },
     "execution_count": 7,
     "metadata": {},
     "output_type": "execute_result"
    }
   ],
   "source": [
    "df_notifications.head(2)"
   ]
  },
  {
   "cell_type": "code",
   "execution_count": 16,
   "metadata": {},
   "outputs": [
    {
     "data": {
      "text/plain": [
       "REENGAGEMENT_ACTIVE_FUNDS               35844\n",
       "FIFTH_PAYMENT_PROMO                     23743\n",
       "NO_INITIAL_CARD_USE                     11221\n",
       "NO_INITIAL_CARD_ORDER                   11136\n",
       "METAL_GAME_START                         8373\n",
       "LOST_CARD_ORDER                          6146\n",
       "NO_INITIAL_FREE_PROMOPAGE_CARD_ORDER     5459\n",
       "JOINING_ANNIVERSARY                      4158\n",
       "MADE_MONEY_REQUEST_NOT_SPLIT_BILL        3506\n",
       "ONBOARDING_TIPS_ACTIVATED_USERS          3145\n",
       "ENGAGEMENT_SPLIT_BILL_RESTAURANT         2298\n",
       "BLACK_FRIDAY                             2109\n",
       "METAL_RESERVE_PLAN                       1233\n",
       "PREMIUM_ENGAGEMENT_INACTIVE_CARD         1124\n",
       "WELCOME_HOME                              950\n",
       "PUMPKIN_PAYMENT_NOTIFICATION              690\n",
       "PREMIUM_ENGAGEMENT_FEES_SAVED             678\n",
       "Name: reason, dtype: int64"
      ]
     },
     "execution_count": 16,
     "metadata": {},
     "output_type": "execute_result"
    }
   ],
   "source": [
    "df_notifications.reason.value_counts()"
   ]
  },
  {
   "cell_type": "code",
   "execution_count": 17,
   "metadata": {},
   "outputs": [
    {
     "data": {
      "text/plain": [
       "EMAIL    61253\n",
       "PUSH     57683\n",
       "SMS       2877\n",
       "Name: channel, dtype: int64"
      ]
     },
     "execution_count": 17,
     "metadata": {},
     "output_type": "execute_result"
    }
   ],
   "source": [
    "df_notifications.channel.value_counts()"
   ]
  },
  {
   "cell_type": "code",
   "execution_count": 18,
   "metadata": {},
   "outputs": [
    {
     "data": {
      "text/plain": [
       "SENT      89477\n",
       "FAILED    32336\n",
       "Name: status, dtype: int64"
      ]
     },
     "execution_count": 18,
     "metadata": {},
     "output_type": "execute_result"
    }
   ],
   "source": [
    "df_notifications.status.value_counts()"
   ]
  },
  {
   "cell_type": "code",
   "execution_count": 8,
   "metadata": {},
   "outputs": [
    {
     "data": {
      "text/html": [
       "<div>\n",
       "<style scoped>\n",
       "    .dataframe tbody tr th:only-of-type {\n",
       "        vertical-align: middle;\n",
       "    }\n",
       "\n",
       "    .dataframe tbody tr th {\n",
       "        vertical-align: top;\n",
       "    }\n",
       "\n",
       "    .dataframe thead th {\n",
       "        text-align: right;\n",
       "    }\n",
       "</style>\n",
       "<table border=\"1\" class=\"dataframe\">\n",
       "  <thead>\n",
       "    <tr style=\"text-align: right;\">\n",
       "      <th></th>\n",
       "      <th>transaction_id</th>\n",
       "      <th>transactions_type</th>\n",
       "      <th>transactions_currency</th>\n",
       "      <th>amount_usd</th>\n",
       "      <th>transactions_state</th>\n",
       "      <th>ea_cardholderpresence</th>\n",
       "      <th>ea_merchant_mcc</th>\n",
       "      <th>ea_merchant_city</th>\n",
       "      <th>ea_merchant_country</th>\n",
       "      <th>direction</th>\n",
       "      <th>user_id</th>\n",
       "      <th>created_date</th>\n",
       "    </tr>\n",
       "  </thead>\n",
       "  <tbody>\n",
       "    <tr>\n",
       "      <th>0</th>\n",
       "      <td>transaction_0</td>\n",
       "      <td>TRANSFER</td>\n",
       "      <td>AED</td>\n",
       "      <td>4.55</td>\n",
       "      <td>COMPLETED</td>\n",
       "      <td>NaN</td>\n",
       "      <td>NaN</td>\n",
       "      <td>NaN</td>\n",
       "      <td>NaN</td>\n",
       "      <td>OUTBOUND</td>\n",
       "      <td>user_898</td>\n",
       "      <td>2018-04-03 03:34:21.784487</td>\n",
       "    </tr>\n",
       "    <tr>\n",
       "      <th>1</th>\n",
       "      <td>transaction_1</td>\n",
       "      <td>CARD_PAYMENT</td>\n",
       "      <td>AED</td>\n",
       "      <td>15.50</td>\n",
       "      <td>COMPLETED</td>\n",
       "      <td>FALSE</td>\n",
       "      <td>4111.0</td>\n",
       "      <td>Dubai</td>\n",
       "      <td>ARE</td>\n",
       "      <td>OUTBOUND</td>\n",
       "      <td>user_1652</td>\n",
       "      <td>2019-03-19 06:15:59.537032</td>\n",
       "    </tr>\n",
       "  </tbody>\n",
       "</table>\n",
       "</div>"
      ],
      "text/plain": [
       "  transaction_id transactions_type transactions_currency  amount_usd  \\\n",
       "0  transaction_0          TRANSFER                   AED        4.55   \n",
       "1  transaction_1      CARD_PAYMENT                   AED       15.50   \n",
       "\n",
       "  transactions_state ea_cardholderpresence  ea_merchant_mcc ea_merchant_city  \\\n",
       "0          COMPLETED                   NaN              NaN              NaN   \n",
       "1          COMPLETED                 FALSE           4111.0            Dubai   \n",
       "\n",
       "  ea_merchant_country direction    user_id                created_date  \n",
       "0                 NaN  OUTBOUND   user_898  2018-04-03 03:34:21.784487  \n",
       "1                 ARE  OUTBOUND  user_1652  2019-03-19 06:15:59.537032  "
      ]
     },
     "execution_count": 8,
     "metadata": {},
     "output_type": "execute_result"
    }
   ],
   "source": [
    "df_transactions.head(2)"
   ]
  },
  {
   "cell_type": "code",
   "execution_count": 9,
   "metadata": {},
   "outputs": [
    {
     "data": {
      "text/plain": [
       "COMPLETED    2407968\n",
       "DECLINED      155286\n",
       "REVERTED      112618\n",
       "FAILED         41053\n",
       "PENDING        21492\n",
       "CANCELLED       1658\n",
       "Name: transactions_state, dtype: int64"
      ]
     },
     "execution_count": 9,
     "metadata": {},
     "output_type": "execute_result"
    }
   ],
   "source": [
    "df_transactions['transactions_state'].value_counts()"
   ]
  },
  {
   "cell_type": "code",
   "execution_count": 10,
   "metadata": {},
   "outputs": [
    {
     "data": {
      "text/plain": [
       "CARD_PAYMENT    1475780\n",
       "TRANSFER         500409\n",
       "TOPUP            388331\n",
       "EXCHANGE         159148\n",
       "ATM               93675\n",
       "CASHBACK          82789\n",
       "FEE               23659\n",
       "CARD_REFUND       11962\n",
       "TAX                2829\n",
       "REFUND             1493\n",
       "Name: transactions_type, dtype: int64"
      ]
     },
     "execution_count": 10,
     "metadata": {},
     "output_type": "execute_result"
    }
   ],
   "source": [
    "df_transactions['transactions_type'].value_counts()"
   ]
  },
  {
   "cell_type": "code",
   "execution_count": 11,
   "metadata": {},
   "outputs": [
    {
     "data": {
      "text/html": [
       "<div>\n",
       "<style scoped>\n",
       "    .dataframe tbody tr th:only-of-type {\n",
       "        vertical-align: middle;\n",
       "    }\n",
       "\n",
       "    .dataframe tbody tr th {\n",
       "        vertical-align: top;\n",
       "    }\n",
       "\n",
       "    .dataframe thead th {\n",
       "        text-align: right;\n",
       "    }\n",
       "</style>\n",
       "<table border=\"1\" class=\"dataframe\">\n",
       "  <thead>\n",
       "    <tr style=\"text-align: right;\">\n",
       "      <th></th>\n",
       "      <th>user_id</th>\n",
       "      <th>birth_year</th>\n",
       "      <th>country</th>\n",
       "      <th>city</th>\n",
       "      <th>created_date</th>\n",
       "      <th>user_settings_crypto_unlocked</th>\n",
       "      <th>plan</th>\n",
       "      <th>attributes_notifications_marketing_push</th>\n",
       "      <th>attributes_notifications_marketing_email</th>\n",
       "      <th>num_contacts</th>\n",
       "      <th>num_referrals</th>\n",
       "      <th>num_successful_referrals</th>\n",
       "    </tr>\n",
       "  </thead>\n",
       "  <tbody>\n",
       "    <tr>\n",
       "      <th>0</th>\n",
       "      <td>user_0</td>\n",
       "      <td>1989</td>\n",
       "      <td>PL</td>\n",
       "      <td>Gdansk</td>\n",
       "      <td>2018-01-13 05:15:15.599466</td>\n",
       "      <td>1</td>\n",
       "      <td>STANDARD</td>\n",
       "      <td>1.0</td>\n",
       "      <td>1.0</td>\n",
       "      <td>3</td>\n",
       "      <td>0</td>\n",
       "      <td>0</td>\n",
       "    </tr>\n",
       "    <tr>\n",
       "      <th>1</th>\n",
       "      <td>user_1</td>\n",
       "      <td>1975</td>\n",
       "      <td>GB</td>\n",
       "      <td>London</td>\n",
       "      <td>2018-01-29 03:38:46.676876</td>\n",
       "      <td>0</td>\n",
       "      <td>STANDARD</td>\n",
       "      <td>NaN</td>\n",
       "      <td>NaN</td>\n",
       "      <td>21</td>\n",
       "      <td>0</td>\n",
       "      <td>0</td>\n",
       "    </tr>\n",
       "  </tbody>\n",
       "</table>\n",
       "</div>"
      ],
      "text/plain": [
       "  user_id  birth_year country    city                created_date  \\\n",
       "0  user_0        1989      PL  Gdansk  2018-01-13 05:15:15.599466   \n",
       "1  user_1        1975      GB  London  2018-01-29 03:38:46.676876   \n",
       "\n",
       "   user_settings_crypto_unlocked      plan  \\\n",
       "0                              1  STANDARD   \n",
       "1                              0  STANDARD   \n",
       "\n",
       "   attributes_notifications_marketing_push  \\\n",
       "0                                      1.0   \n",
       "1                                      NaN   \n",
       "\n",
       "   attributes_notifications_marketing_email  num_contacts  num_referrals  \\\n",
       "0                                       1.0             3              0   \n",
       "1                                       NaN            21              0   \n",
       "\n",
       "   num_successful_referrals  \n",
       "0                         0  \n",
       "1                         0  "
      ]
     },
     "execution_count": 11,
     "metadata": {},
     "output_type": "execute_result"
    }
   ],
   "source": [
    "df_users.head(2)"
   ]
  },
  {
   "cell_type": "code",
   "execution_count": 12,
   "metadata": {},
   "outputs": [
    {
     "data": {
      "text/plain": [
       "STANDARD         17992\n",
       "PREMIUM            865\n",
       "METAL              507\n",
       "METAL_FREE          37\n",
       "PREMIUM_OFFER       25\n",
       "PREMIUM_FREE         4\n",
       "Name: plan, dtype: int64"
      ]
     },
     "execution_count": 12,
     "metadata": {},
     "output_type": "execute_result"
    }
   ],
   "source": [
    "df_users.plan.value_counts()"
   ]
  },
  {
   "cell_type": "code",
   "execution_count": null,
   "metadata": {},
   "outputs": [],
   "source": []
  },
  {
   "cell_type": "markdown",
   "metadata": {},
   "source": [
    "## Part II - EDA"
   ]
  },
  {
   "cell_type": "markdown",
   "metadata": {},
   "source": [
    "### a) Define a metric for user engagement.\n",
    "\n",
    "In this case, we define an engagement indicates a user has experienced Revolut's product function in any transactions_type and the transaction_state is completed over one time as it means that a user has a completed experience in the product service after first-time use. Therefore, the definition of engagement is:\n",
    "\n",
    "- `engaged user`: a user has over 1 transaction record and the transaction_state is COMPLETED.\n",
    "- `non-engaged user`: a user has only 1 completed transaction record then churned."
   ]
  },
  {
   "cell_type": "code",
   "execution_count": 13,
   "metadata": {},
   "outputs": [],
   "source": [
    "group_user_transaction_type = df_transactions.groupby(['user_id','transactions_type']).agg({'transaction_id':'nunique'}).reset_index()"
   ]
  },
  {
   "cell_type": "code",
   "execution_count": 57,
   "metadata": {},
   "outputs": [
    {
     "data": {
      "image/png": "[encoded data removed]",
      "text/plain": [
       "<matplotlib.figure.Figure at 0x192e68cf60>"
      ]
     },
     "metadata": {},
     "output_type": "display_data"
    }
   ],
   "source": [
    "sns.set(rc={\"figure.figsize\": (15, 6)})\n",
    "ax = sns.boxplot(\n",
    "    x=\"transactions_type\", y=\"transaction_id\", hue=\"transactions_type\",\n",
    "    data = group_user_transaction_type,\n",
    "    linewidth=2.5\n",
    ")"
   ]
  },
  {
   "cell_type": "code",
   "execution_count": 61,
   "metadata": {},
   "outputs": [
    {
     "data": {
      "text/html": [
       "<div>\n",
       "<style scoped>\n",
       "    .dataframe tbody tr th:only-of-type {\n",
       "        vertical-align: middle;\n",
       "    }\n",
       "\n",
       "    .dataframe tbody tr th {\n",
       "        vertical-align: top;\n",
       "    }\n",
       "\n",
       "    .dataframe thead tr th {\n",
       "        text-align: left;\n",
       "    }\n",
       "\n",
       "    .dataframe thead tr:last-of-type th {\n",
       "        text-align: right;\n",
       "    }\n",
       "</style>\n",
       "<table border=\"1\" class=\"dataframe\">\n",
       "  <thead>\n",
       "    <tr>\n",
       "      <th></th>\n",
       "      <th colspan=\"3\" halign=\"left\">transaction_id</th>\n",
       "    </tr>\n",
       "    <tr>\n",
       "      <th></th>\n",
       "      <th>sum</th>\n",
       "      <th>mean</th>\n",
       "      <th>median</th>\n",
       "    </tr>\n",
       "    <tr>\n",
       "      <th>transactions_type</th>\n",
       "      <th></th>\n",
       "      <th></th>\n",
       "      <th></th>\n",
       "    </tr>\n",
       "  </thead>\n",
       "  <tbody>\n",
       "    <tr>\n",
       "      <th>ATM</th>\n",
       "      <td>93675</td>\n",
       "      <td>9.173032</td>\n",
       "      <td>5</td>\n",
       "    </tr>\n",
       "    <tr>\n",
       "      <th>CARD_PAYMENT</th>\n",
       "      <td>1475780</td>\n",
       "      <td>95.076665</td>\n",
       "      <td>44</td>\n",
       "    </tr>\n",
       "    <tr>\n",
       "      <th>CARD_REFUND</th>\n",
       "      <td>11962</td>\n",
       "      <td>2.804689</td>\n",
       "      <td>1</td>\n",
       "    </tr>\n",
       "    <tr>\n",
       "      <th>CASHBACK</th>\n",
       "      <td>82789</td>\n",
       "      <td>133.315620</td>\n",
       "      <td>70</td>\n",
       "    </tr>\n",
       "    <tr>\n",
       "      <th>EXCHANGE</th>\n",
       "      <td>159148</td>\n",
       "      <td>17.859724</td>\n",
       "      <td>7</td>\n",
       "    </tr>\n",
       "    <tr>\n",
       "      <th>FEE</th>\n",
       "      <td>23659</td>\n",
       "      <td>2.303476</td>\n",
       "      <td>1</td>\n",
       "    </tr>\n",
       "    <tr>\n",
       "      <th>REFUND</th>\n",
       "      <td>1493</td>\n",
       "      <td>1.407163</td>\n",
       "      <td>1</td>\n",
       "    </tr>\n",
       "    <tr>\n",
       "      <th>TAX</th>\n",
       "      <td>2829</td>\n",
       "      <td>5.097297</td>\n",
       "      <td>3</td>\n",
       "    </tr>\n",
       "    <tr>\n",
       "      <th>TOPUP</th>\n",
       "      <td>388331</td>\n",
       "      <td>21.109535</td>\n",
       "      <td>12</td>\n",
       "    </tr>\n",
       "    <tr>\n",
       "      <th>TRANSFER</th>\n",
       "      <td>500409</td>\n",
       "      <td>38.001899</td>\n",
       "      <td>8</td>\n",
       "    </tr>\n",
       "  </tbody>\n",
       "</table>\n",
       "</div>"
      ],
      "text/plain": [
       "                  transaction_id                   \n",
       "                             sum        mean median\n",
       "transactions_type                                  \n",
       "ATM                        93675    9.173032      5\n",
       "CARD_PAYMENT             1475780   95.076665     44\n",
       "CARD_REFUND                11962    2.804689      1\n",
       "CASHBACK                   82789  133.315620     70\n",
       "EXCHANGE                  159148   17.859724      7\n",
       "FEE                        23659    2.303476      1\n",
       "REFUND                      1493    1.407163      1\n",
       "TAX                         2829    5.097297      3\n",
       "TOPUP                     388331   21.109535     12\n",
       "TRANSFER                  500409   38.001899      8"
      ]
     },
     "execution_count": 61,
     "metadata": {},
     "output_type": "execute_result"
    }
   ],
   "source": [
    "group_user_transaction_type.groupby('transactions_type').agg({'transaction_id':['sum','mean','median']})"
   ]
  },
  {
   "cell_type": "markdown",
   "metadata": {},
   "source": [
    "### b) Build up a classification model for engaged users and non-engaged users\n",
    "\n",
    "#### b.1 transform number of  transaction type to each column and group by user_id\n",
    "\n",
    "- to get the transaction usage from each user to measure the engagement.\n",
    "- consider the transaction_state is completed only "
   ]
  },
  {
   "cell_type": "code",
   "execution_count": 241,
   "metadata": {},
   "outputs": [],
   "source": [
    "# select the transaction data with state = 'COMPLETED' and group by user_id and transaction type\n",
    "group_transaction_type_by_id = df_transactions[df_transactions.transactions_state == 'COMPLETED'].groupby(\n",
    "    ['user_id','transactions_type']\n",
    ")['transaction_id'].nunique().reset_index()\n",
    "\n",
    "# transform transaction type to columns for fitting into the model\n",
    "group_transaction_type_by_id_pivot = pd.pivot_table(\n",
    "    group_transaction_type_by_id, values=['transaction_id'], index='user_id', columns='transactions_type'\n",
    ")\n",
    "group_transaction_type_by_id_pivot.columns = group_transaction_type_by_id_pivot.columns.droplevel()\n",
    "group_transaction_type_by_id_pivot= group_transaction_type_by_id_pivot.fillna(0)\n",
    "\n",
    "# sum up certain transaction type by each user_id and create a new label\n",
    "\"\"\"\n",
    "We don't consider top-up as it's for the first time use, and some transaction types are the passive transaction \n",
    "so we don't consider as well. Therefore we consider 'CARD_PAYMENT','TRANSFER','EXCHANGE' more reflecting user active engagement\n",
    "Definition: no completed transactions in these types then transaction = 0, if above one completed transaction = 1\n",
    "\"\"\"\n",
    "trans_type = ['CARD_PAYMENT','TRANSFER','EXCHANGE']\n",
    "group_transaction_type_by_id_pivot['num_transaction'] = group_transaction_type_by_id_pivot[trans_type].sum(axis=1)\n",
    "group_transaction_type_by_id_pivot['engaged'] = np.where(group_transaction_type_by_id_pivot.num_transaction == 0, 0, 1)"
   ]
  },
  {
   "cell_type": "markdown",
   "metadata": {},
   "source": [
    "#### b.2 filter user features and join user data with transaction data"
   ]
  },
  {
   "cell_type": "code",
   "execution_count": 242,
   "metadata": {},
   "outputs": [],
   "source": [
    "drop_cols = ['country','city','created_date']\n",
    "df_user_filtered = df_users.drop(drop_cols, axis=1)"
   ]
  },
  {
   "cell_type": "code",
   "execution_count": 243,
   "metadata": {},
   "outputs": [],
   "source": [
    "df_joined = group_transaction_type_by_id_pivot.join(df_user_filtered.set_index('user_id')).fillna(0)"
   ]
  },
  {
   "cell_type": "markdown",
   "metadata": {},
   "source": [
    "#### b.3 Feature Engineering\n",
    "\n",
    "- transform categorical features into label encoded features\n",
    "- normalize numeric features to unify the variance."
   ]
  },
  {
   "cell_type": "code",
   "execution_count": 244,
   "metadata": {},
   "outputs": [],
   "source": [
    "df_joined_encoded = MultiColumnLabelEncoder(columns = ['plan']).fit_transform(df_joined)"
   ]
  },
  {
   "cell_type": "code",
   "execution_count": 245,
   "metadata": {},
   "outputs": [],
   "source": [
    "y_col = 'engaged'\n",
    "y = df_joined_encoded[[y_col]]\n",
    "X = df_joined_encoded.drop(y_col, axis=1)\n",
    "cols = list(X.columns)\n",
    "\n",
    "# standardize numeric data\n",
    "scaler = StandardScaler()\n",
    "scaler.fit_transform(X)\n",
    "X = pd.DataFrame(scaler.transform(X))\n",
    "X.columns = cols\n",
    "X_train, X_test, y_train, y_test = train_test_split(X, y, test_size=0.2)"
   ]
  },
  {
   "cell_type": "markdown",
   "metadata": {},
   "source": [
    "#### b.4 XGB classification model"
   ]
  },
  {
   "cell_type": "code",
   "execution_count": 246,
   "metadata": {},
   "outputs": [
    {
     "name": "stdout",
     "output_type": "stream",
     "text": [
      "[0]\tvalidation_0-mae:0.475029\tvalidation_1-mae:0.475029\n",
      "[1]\tvalidation_0-mae:0.45136\tvalidation_1-mae:0.45136\n",
      "[2]\tvalidation_0-mae:0.428915\tvalidation_1-mae:0.428914\n",
      "[3]\tvalidation_0-mae:0.407623\tvalidation_1-mae:0.407622\n"
     ]
    },
    {
     "name": "stderr",
     "output_type": "stream",
     "text": [
      "C:\\Users\\Chang_000\\Anaconda3\\lib\\site-packages\\sklearn\\preprocessing\\label.py:95: DataConversionWarning: A column-vector y was passed when a 1d array was expected. Please change the shape of y to (n_samples, ), for example using ravel().\n",
      "  y = column_or_1d(y, warn=True)\n",
      "C:\\Users\\Chang_000\\Anaconda3\\lib\\site-packages\\sklearn\\preprocessing\\label.py:128: DataConversionWarning: A column-vector y was passed when a 1d array was expected. Please change the shape of y to (n_samples, ), for example using ravel().\n",
      "  y = column_or_1d(y, warn=True)\n"
     ]
    },
    {
     "name": "stdout",
     "output_type": "stream",
     "text": [
      "[4]\tvalidation_0-mae:0.387418\tvalidation_1-mae:0.387418\n",
      "[5]\tvalidation_0-mae:0.368242\tvalidation_1-mae:0.368241\n",
      "[6]\tvalidation_0-mae:0.350036\tvalidation_1-mae:0.350035\n",
      "[7]\tvalidation_0-mae:0.332749\tvalidation_1-mae:0.332748\n",
      "[8]\tvalidation_0-mae:0.316331\tvalidation_1-mae:0.31633\n",
      "[9]\tvalidation_0-mae:0.300737\tvalidation_1-mae:0.300736\n",
      "[10]\tvalidation_0-mae:0.287667\tvalidation_1-mae:0.287632\n",
      "[11]\tvalidation_0-mae:0.273506\tvalidation_1-mae:0.273473\n",
      "[12]\tvalidation_0-mae:0.261446\tvalidation_1-mae:0.261433\n",
      "[13]\tvalidation_0-mae:0.248593\tvalidation_1-mae:0.248581\n",
      "[14]\tvalidation_0-mae:0.236378\tvalidation_1-mae:0.236368\n",
      "[15]\tvalidation_0-mae:0.224768\tvalidation_1-mae:0.224759\n",
      "[16]\tvalidation_0-mae:0.213734\tvalidation_1-mae:0.213725\n",
      "[17]\tvalidation_0-mae:0.203247\tvalidation_1-mae:0.203239\n",
      "[18]\tvalidation_0-mae:0.193278\tvalidation_1-mae:0.193271\n",
      "[19]\tvalidation_0-mae:0.183803\tvalidation_1-mae:0.183797\n",
      "[20]\tvalidation_0-mae:0.174795\tvalidation_1-mae:0.17479\n",
      "[21]\tvalidation_0-mae:0.166233\tvalidation_1-mae:0.166228\n",
      "[22]\tvalidation_0-mae:0.158091\tvalidation_1-mae:0.158087\n",
      "[23]\tvalidation_0-mae:0.150357\tvalidation_1-mae:0.150353\n",
      "[24]\tvalidation_0-mae:0.142998\tvalidation_1-mae:0.142994\n",
      "[25]\tvalidation_0-mae:0.136001\tvalidation_1-mae:0.135998\n",
      "[26]\tvalidation_0-mae:0.129348\tvalidation_1-mae:0.129346\n",
      "[27]\tvalidation_0-mae:0.123023\tvalidation_1-mae:0.123021\n",
      "[28]\tvalidation_0-mae:0.117008\tvalidation_1-mae:0.117006\n",
      "[29]\tvalidation_0-mae:0.111288\tvalidation_1-mae:0.111286\n",
      "[30]\tvalidation_0-mae:0.106482\tvalidation_1-mae:0.106491\n",
      "[31]\tvalidation_0-mae:0.101278\tvalidation_1-mae:0.101288\n",
      "[32]\tvalidation_0-mae:0.096994\tvalidation_1-mae:0.097009\n",
      "[33]\tvalidation_0-mae:0.09286\tvalidation_1-mae:0.092879\n",
      "[34]\tvalidation_0-mae:0.088325\tvalidation_1-mae:0.088344\n",
      "[35]\tvalidation_0-mae:0.084012\tvalidation_1-mae:0.08403\n",
      "[36]\tvalidation_0-mae:0.079911\tvalidation_1-mae:0.079928\n",
      "[37]\tvalidation_0-mae:0.07601\tvalidation_1-mae:0.076027\n",
      "[38]\tvalidation_0-mae:0.072301\tvalidation_1-mae:0.072317\n",
      "[39]\tvalidation_0-mae:0.068773\tvalidation_1-mae:0.068789\n",
      "[40]\tvalidation_0-mae:0.065422\tvalidation_1-mae:0.065437\n",
      "[41]\tvalidation_0-mae:0.062688\tvalidation_1-mae:0.062707\n",
      "[42]\tvalidation_0-mae:0.059636\tvalidation_1-mae:0.059653\n",
      "[43]\tvalidation_0-mae:0.056728\tvalidation_1-mae:0.056744\n",
      "[44]\tvalidation_0-mae:0.053962\tvalidation_1-mae:0.053978\n",
      "[45]\tvalidation_0-mae:0.051332\tvalidation_1-mae:0.051347\n",
      "[46]\tvalidation_0-mae:0.04883\tvalidation_1-mae:0.048844\n",
      "[47]\tvalidation_0-mae:0.04645\tvalidation_1-mae:0.046464\n",
      "[48]\tvalidation_0-mae:0.044187\tvalidation_1-mae:0.0442\n",
      "[49]\tvalidation_0-mae:0.042034\tvalidation_1-mae:0.042046\n",
      "[50]\tvalidation_0-mae:0.039991\tvalidation_1-mae:0.040002\n",
      "[51]\tvalidation_0-mae:0.038043\tvalidation_1-mae:0.038054\n",
      "[52]\tvalidation_0-mae:0.036195\tvalidation_1-mae:0.036205\n",
      "[53]\tvalidation_0-mae:0.034433\tvalidation_1-mae:0.034443\n",
      "[54]\tvalidation_0-mae:0.032757\tvalidation_1-mae:0.032766\n",
      "[55]\tvalidation_0-mae:0.031162\tvalidation_1-mae:0.031171\n",
      "[56]\tvalidation_0-mae:0.029901\tvalidation_1-mae:0.029909\n",
      "[57]\tvalidation_0-mae:0.028446\tvalidation_1-mae:0.028454\n",
      "[58]\tvalidation_0-mae:0.027062\tvalidation_1-mae:0.02707\n",
      "[59]\tvalidation_0-mae:0.025751\tvalidation_1-mae:0.025758\n",
      "[60]\tvalidation_0-mae:0.024552\tvalidation_1-mae:0.024549\n",
      "[61]\tvalidation_0-mae:0.023358\tvalidation_1-mae:0.023356\n",
      "[62]\tvalidation_0-mae:0.022223\tvalidation_1-mae:0.02222\n",
      "[63]\tvalidation_0-mae:0.021143\tvalidation_1-mae:0.021141\n",
      "[64]\tvalidation_0-mae:0.020116\tvalidation_1-mae:0.020114\n",
      "[65]\tvalidation_0-mae:0.019139\tvalidation_1-mae:0.019137\n",
      "[66]\tvalidation_0-mae:0.018367\tvalidation_1-mae:0.018366\n",
      "[67]\tvalidation_0-mae:0.017475\tvalidation_1-mae:0.017474\n",
      "[68]\tvalidation_0-mae:0.016627\tvalidation_1-mae:0.016626\n",
      "[69]\tvalidation_0-mae:0.015821\tvalidation_1-mae:0.01582\n",
      "[70]\tvalidation_0-mae:0.015053\tvalidation_1-mae:0.015052\n",
      "[71]\tvalidation_0-mae:0.014324\tvalidation_1-mae:0.014322\n",
      "[72]\tvalidation_0-mae:0.013629\tvalidation_1-mae:0.013628\n",
      "[73]\tvalidation_0-mae:0.012969\tvalidation_1-mae:0.012968\n",
      "[74]\tvalidation_0-mae:0.012341\tvalidation_1-mae:0.01234\n",
      "[75]\tvalidation_0-mae:0.011743\tvalidation_1-mae:0.011742\n",
      "[76]\tvalidation_0-mae:0.011175\tvalidation_1-mae:0.011174\n",
      "[77]\tvalidation_0-mae:0.010634\tvalidation_1-mae:0.010633\n",
      "[78]\tvalidation_0-mae:0.01012\tvalidation_1-mae:0.010119\n",
      "[79]\tvalidation_0-mae:0.009631\tvalidation_1-mae:0.00963\n",
      "[80]\tvalidation_0-mae:0.009166\tvalidation_1-mae:0.009165\n",
      "[81]\tvalidation_0-mae:0.008723\tvalidation_1-mae:0.008722\n",
      "[82]\tvalidation_0-mae:0.008302\tvalidation_1-mae:0.008301\n",
      "[83]\tvalidation_0-mae:0.007902\tvalidation_1-mae:0.0079\n",
      "[84]\tvalidation_0-mae:0.007521\tvalidation_1-mae:0.007519\n",
      "[85]\tvalidation_0-mae:0.007158\tvalidation_1-mae:0.007157\n",
      "[86]\tvalidation_0-mae:0.006833\tvalidation_1-mae:0.006829\n",
      "[87]\tvalidation_0-mae:0.006504\tvalidation_1-mae:0.006501\n",
      "[88]\tvalidation_0-mae:0.006191\tvalidation_1-mae:0.006188\n",
      "[89]\tvalidation_0-mae:0.005893\tvalidation_1-mae:0.00589\n",
      "[90]\tvalidation_0-mae:0.005665\tvalidation_1-mae:0.005663\n",
      "[91]\tvalidation_0-mae:0.005446\tvalidation_1-mae:0.005445\n",
      "[92]\tvalidation_0-mae:0.005185\tvalidation_1-mae:0.005184\n",
      "[93]\tvalidation_0-mae:0.004937\tvalidation_1-mae:0.004936\n",
      "[94]\tvalidation_0-mae:0.0047\tvalidation_1-mae:0.004699\n",
      "[95]\tvalidation_0-mae:0.004475\tvalidation_1-mae:0.004474\n",
      "[96]\tvalidation_0-mae:0.004261\tvalidation_1-mae:0.00426\n",
      "[97]\tvalidation_0-mae:0.004058\tvalidation_1-mae:0.004057\n",
      "[98]\tvalidation_0-mae:0.003877\tvalidation_1-mae:0.003875\n",
      "[99]\tvalidation_0-mae:0.003692\tvalidation_1-mae:0.00369\n"
     ]
    }
   ],
   "source": [
    "def train_xgb(train_x, train_y):\n",
    "    \n",
    "    # split the data \n",
    "    X_train, X_val, y_train, y_val = train_test_split(X, y, test_size=0.1)\n",
    "    \n",
    "    # model parameters\n",
    "    xgb_clf = xgb.XGBClassifier(\n",
    "        objective='binary:logistic',\n",
    "        booster='gbtree',\n",
    "        colsample_bytree=0.8,\n",
    "        subsample=0.5,\n",
    "        learning_rate=0.05,\n",
    "        max_depth=3, \n",
    "        min_child_weight=1.8,\n",
    "        n_estimators=100,\n",
    "        reg_alpha=0.1,\n",
    "        reg_lambda=0.3,\n",
    "        amma=0.01, \n",
    "        silent=1,\n",
    "        random_state=5,\n",
    "        nthread = -1\n",
    "    )\n",
    "    \n",
    "    # run the model\n",
    "    xgb_clf.fit(\n",
    "        X_train, y_train, eval_set=[(X_train, y_train), (X_val, y_val)], eval_metric='mae'\n",
    "    )\n",
    "    \n",
    "    return xgb_clf\n",
    "\n",
    "xgb_clf = train_xgb(X_train, y_train)"
   ]
  },
  {
   "cell_type": "code",
   "execution_count": 247,
   "metadata": {},
   "outputs": [
    {
     "data": {
      "image/png": "[encoded data removed]",
      "text/plain": [
       "<matplotlib.figure.Figure at 0xa28ec65ef0>"
      ]
     },
     "metadata": {
      "needs_background": "light"
     },
     "output_type": "display_data"
    }
   ],
   "source": [
    "def plot_training_curve(clf):\n",
    "    \n",
    "    df_dict = {}\n",
    "    for eval_set, eval_metric_dict in clf.evals_result_.items():\n",
    "        for eval_metric, eval_loss in eval_metric_dict.items():\n",
    "            df_dict[eval_set] = eval_loss\n",
    "        \n",
    "    df = pd.DataFrame(df_dict)\n",
    "    return df.plot()\n",
    "\n",
    "ax = plot_training_curve(xgb_clf)\n",
    "ax.set_title('Training Curve - XGBoost Model')\n",
    "ax.set_xlabel('Number of Iterations (Number of trees)')\n",
    "ax.set_ylabel('Loss')\n",
    "\n",
    "ax.legend(['training loss', 'validation loss']);"
   ]
  },
  {
   "cell_type": "code",
   "execution_count": null,
   "metadata": {},
   "outputs": [],
   "source": []
  },
  {
   "cell_type": "markdown",
   "metadata": {},
   "source": [
    "#### b.5 Prediction and Validation\n",
    "\n",
    "It is obvious that the prediction result indicates an overfitting as only 4.5% defined non-engaged users. There are some methods we can improve it further:\n",
    "\n",
    "- redefine non-engaged to increase the data\n",
    "- compare other classification models\n",
    "- feature selections\n",
    "- cross-validation\n",
    "\n",
    "Due to the time limitation for this case, we can present some improvements in the next interview."
   ]
  },
  {
   "cell_type": "code",
   "execution_count": 248,
   "metadata": {},
   "outputs": [],
   "source": [
    "y_pred = xgb_clf.predict(X_test) \n",
    "output = pd.DataFrame(y_pred).rename(columns={0:'pred_engaged'})"
   ]
  },
  {
   "cell_type": "code",
   "execution_count": 249,
   "metadata": {},
   "outputs": [
    {
     "data": {
      "text/plain": [
       "1.0"
      ]
     },
     "execution_count": 249,
     "metadata": {},
     "output_type": "execute_result"
    }
   ],
   "source": [
    "accuracy_score(y_test, y_pred, normalize=True)"
   ]
  },
  {
   "cell_type": "code",
   "execution_count": 250,
   "metadata": {},
   "outputs": [
    {
     "data": {
      "text/plain": [
       "1.0"
      ]
     },
     "execution_count": 250,
     "metadata": {},
     "output_type": "execute_result"
    }
   ],
   "source": [
    "f1_score(y_test, y_pred, average='weighted')  "
   ]
  },
  {
   "cell_type": "code",
   "execution_count": 251,
   "metadata": {},
   "outputs": [
    {
     "data": {
      "text/plain": [
       "array([[ 256,    0],\n",
       "       [   0, 3450]], dtype=int64)"
      ]
     },
     "execution_count": 251,
     "metadata": {},
     "output_type": "execute_result"
    }
   ],
   "source": [
    "confusion_matrix(y_test, y_pred)"
   ]
  },
  {
   "cell_type": "code",
   "execution_count": null,
   "metadata": {},
   "outputs": [],
   "source": []
  },
  {
   "cell_type": "markdown",
   "metadata": {},
   "source": [
    "### c) How to set up a test/experiment to check whether we are reducing churn?\n",
    "\n",
    "If we like to measure the business actions to target non-engaged users, there are some approaches can apply:\n",
    "\n",
    "1. to measure the marketing campaigns for targeting non-engaged users to see the campaign effectiveness, we can apply `causal impact analysis` for time series data.\n",
    "2. need to define `pre-intervention period` and `post-intervention period` to measure the campaign impact.\n",
    "3. apply time series model to fit the pre-intervention period and forecast on post-intervention period, then compare the forecasting and actual results to measure the campaign performance.\n",
    "\n",
    "### d) Select a metric and measure the campaign effective.\n",
    "\n",
    "- Campaign Effect Feature:\n",
    "    - `REENGAGEMENT_ACTIVE_FUNDS`\n",
    "\n",
    "- Observed Metric:\n",
    "    - `number_of_active_engaged_users` = users with one of completed `CARD_PAYMENT` or `TRANSFER` or `EXCHANGE` as these transaction type reflecting the payment behaviour, which is the engagement we expect from engaged users."
   ]
  },
  {
   "cell_type": "code",
   "execution_count": 469,
   "metadata": {},
   "outputs": [
    {
     "name": "stderr",
     "output_type": "stream",
     "text": [
      "C:\\Users\\Chang_000\\Anaconda3\\lib\\site-packages\\ipykernel_launcher.py:4: SettingWithCopyWarning: \n",
      "A value is trying to be set on a copy of a slice from a DataFrame.\n",
      "Try using .loc[row_indexer,col_indexer] = value instead\n",
      "\n",
      "See the caveats in the documentation: http://pandas.pydata.org/pandas-docs/stable/indexing.html#indexing-view-versus-copy\n",
      "  after removing the cwd from sys.path.\n"
     ]
    }
   ],
   "source": [
    "# get campaign data group by date\n",
    "label_campaign_feature = df_notifications[(df_notifications.status == 'SENT') &\n",
    "                                          (df_notifications.reason == 'REENGAGEMENT_ACTIVE_FUNDS')]\n",
    "label_campaign_feature['created_date'] = pd.to_datetime(label_campaign_feature['created_date']).apply(lambda x: x.date())\n",
    "campaign_label_by_date = label_campaign_feature.groupby('created_date')['reason'].count().reset_index().set_index('created_date')\n",
    "campaign_label_by_date.columns=['x0']"
   ]
  },
  {
   "cell_type": "code",
   "execution_count": 470,
   "metadata": {},
   "outputs": [],
   "source": [
    "# get completed and CARD_PAYMENT','TRANSFER','EXCHANGE' transaction type\n",
    "num_transaction_for_causal_impact = df_transactions[(df_transactions.transactions_state == 'COMPLETED') &\n",
    "                                                    (df_transactions.transactions_type.isin(['CARD_PAYMENT','TRANSFER','EXCHANGE']))]\n",
    "num_transaction_for_causal_impact = num_transaction_for_causal_impact[['user_id','created_date']]\n",
    "\n",
    "# group by date\n",
    "num_transaction_for_causal_impact['created_date'] = pd.to_datetime(num_transaction_for_causal_impact['created_date']).apply(lambda x: x.date())\n",
    "num_transaction_for_causal_impact = num_transaction_for_causal_impact.groupby('created_date')['user_id'].count().reset_index().set_index('created_date')\n",
    "num_transaction_for_causal_impact.columns =['y']"
   ]
  },
  {
   "cell_type": "code",
   "execution_count": 471,
   "metadata": {},
   "outputs": [],
   "source": [
    "# join campaign_label with measured metric\n",
    "ci_join = num_transaction_for_causal_impact.join(campaign_label_by_date).fillna(0).reset_index()\n",
    "\n",
    "# find out campagin start/end date and set up pre campaign period and post campaign period\n",
    "start_date = ci_join.created_date.min().strftime('%Y%m%d')\n",
    "campaign_label_by_date = campaign_label_by_date.reset_index()\n",
    "end_date = (campaign_label_by_date.created_date.min() - datetime.timedelta(days=1)).strftime('%Y%m%d')\n",
    "campaign_start_date = campaign_label_by_date.created_date.min().strftime('%Y%m%d')\n",
    "campaign_end_date = campaign_label_by_date.created_date.max().strftime('%Y%m%d')"
   ]
  },
  {
   "cell_type": "code",
   "execution_count": 472,
   "metadata": {},
   "outputs": [],
   "source": [
    "# fit the date index into CI model\n",
    "drop_col = ['created_date']\n",
    "ci_join = ci_join.drop(drop_col, axis=1)\n",
    "ci_join = ci_join.set_index(\n",
    "    pd.date_range(start=start_date, periods=len(ci_join))\n",
    ")"
   ]
  },
  {
   "cell_type": "code",
   "execution_count": 473,
   "metadata": {},
   "outputs": [],
   "source": [
    "# define pre_period = without campagin activities, post_period = starting campaign activities\n",
    "pre_period = [start_date, end_date]\n",
    "post_period = [campaign_start_date, campaign_end_date]"
   ]
  },
  {
   "cell_type": "code",
   "execution_count": 474,
   "metadata": {},
   "outputs": [
    {
     "name": "stderr",
     "output_type": "stream",
     "text": [
      "C:\\Users\\Chang_000\\Anaconda3\\lib\\site-packages\\numpy\\linalg\\linalg.py:1574: RuntimeWarning: invalid value encountered in greater\n",
      "  return (S > tol).sum(axis=-1)\n",
      "C:\\Users\\Chang_000\\Anaconda3\\lib\\site-packages\\numpy\\core\\_methods.py:112: RuntimeWarning: invalid value encountered in subtract\n",
      "  x = asanyarray(arr - arrmean)\n"
     ]
    }
   ],
   "source": [
    "# run CI model\n",
    "ci = CausalImpact(ci_join, pre_period, post_period)\n",
    "ci.run()"
   ]
  },
  {
   "cell_type": "code",
   "execution_count": 476,
   "metadata": {},
   "outputs": [
    {
     "data": {
      "image/png": "[encoded data removed]",
      "text/plain": [
       "<matplotlib.figure.Figure at 0xa291af8278>"
      ]
     },
     "metadata": {
      "needs_background": "light"
     },
     "output_type": "display_data"
    },
    {
     "name": "stdout",
     "output_type": "stream",
     "text": [
      "                         Average        Cumulative\n",
      "Actual                      5155           1031185\n",
      "Predicted                   2962            592536\n",
      "95% CI              [1567, 4357]  [313595, 871477]\n",
      "                                                  \n",
      "Absolute Effect             2193            438648\n",
      "95% CI               [3587, 798]  [717589, 159707]\n",
      "                                                  \n",
      "Relative Effect            74.0%             74.0%\n",
      "95% CI           [121.1%, 27.0%]   [121.1%, 27.0%]\n",
      "None\n",
      " During the post-intervention period, the response variable had an average value of approx. 5155.  By contrast, in  the\n",
      "absence of an intervention, we would have expected an average response of 2962. The 95% interval of this counterfactual\n",
      "prediction is [1567, 4357]. Subtracting this prediction from the observed response yields an estimate of the causal\n",
      "effect the intervention had on the response variable. This effect is 2193 with a 95% interval of [3587, 798]. For a\n",
      "discussion of the significance of this effect, see below.\n",
      "\n",
      "\n",
      " Summing up the individual data points during the post-intervention period (which can only sometimes be meaningfully\n",
      "interpreted), the response variable had an overall value of 1031185.  By contrast, had  the intervention not taken\n",
      "place, we would have expected a sum of 1031185. The 95% interval of this prediction is [313595, 871477]\n",
      "\n",
      "\n",
      " The above results are given in terms of absolute numbers. In relative terms, the response variable showed  an increase\n",
      "of  74.0%. The 95% interval of this percentage is [121.1%, 27.0%]\n",
      "\n",
      "\n",
      " This means that the positive effect observed during the intervention period is statistically significant and unlikely\n",
      "to be due to random fluctuations. It should be noted, however, that the question of whether this increase also bears\n",
      "substantive significance can only be answered by comparing the absolute effect 2193 to the original goal of the\n",
      "underlying intervention.\n",
      "None\n"
     ]
    }
   ],
   "source": [
    "ci.plot()\n",
    "print(ci.summary())\n",
    "print(ci.summary(output='report'))"
   ]
  }
 ],
 "metadata": {
  "kernelspec": {
   "display_name": "Python 3",
   "language": "python",
   "name": "python3"
  },
  "language_info": {
   "codemirror_mode": {
    "name": "ipython",
    "version": 3
   },
   "file_extension": ".py",
   "mimetype": "text/x-python",
   "name": "python",
   "nbconvert_exporter": "python",
   "pygments_lexer": "ipython3",
   "version": "3.7.4"
  }
 },
 "nbformat": 4,
 "nbformat_minor": 2
}
